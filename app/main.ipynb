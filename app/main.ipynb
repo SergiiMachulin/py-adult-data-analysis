{
 "cells": [
  {
   "cell_type": "code",
   "execution_count": null,
   "outputs": [],
   "source": [
    "import numpy as np\n",
    "import pandas as pd"
   ],
   "metadata": {
    "collapsed": false
   }
  },
  {
   "cell_type": "markdown",
   "source": [
    "# Task 0\n",
    "Read the dataset from csv file & perform data cleaning - remove all rows, which contains `?` in some columns.\n",
    "Also check for data correctness (salary & salary $K)."
   ],
   "metadata": {
    "collapsed": false
   }
  },
  {
   "cell_type": "code",
   "execution_count": null,
   "outputs": [],
   "source": [
    "df = pd.read_csv(\"../data/adult.csv\")\n",
    "df = df[df != \"?\"].dropna()\n",
    "mask = ((df[\"salary\"] == \"<=50K\") & (df[\"salary K$\"] > 50)) | ((df[\"salary\"] == \">50K\") & (df[\"salary K$\"] <= 50))\n",
    "\n",
    "if mask.any():\n",
    "    print(f\"ERROR: Inconsistent data in 'salary' and 'salary K$' columns.\\n{df[mask]}\")\n",
    "else:\n",
    "    print(\"Data is clean and correct.\")\n"
   ],
   "metadata": {
    "collapsed": false,
    "pycharm": {
     "name": "#%%\n"
    }
   }
  },
  {
   "cell_type": "markdown",
   "source": [
    "# Task 1\n",
    "Print the count of men and women in the dataset."
   ],
   "metadata": {
    "collapsed": false
   }
  },
  {
   "cell_type": "code",
   "execution_count": null,
   "outputs": [],
   "source": [
    "count_by_sex = df[\"sex\"].value_counts()\n",
    "percent_by_sex = count_by_sex / df.shape[0] * 100\n",
    "print(\"Count of men and women:\\n\", count_by_sex)\n",
    "print(\"Percentage of men and women:\\n\", percent_by_sex)\n"
   ],
   "metadata": {
    "collapsed": false,
    "pycharm": {
     "name": "#%%\n"
    }
   }
  },
  {
   "cell_type": "markdown",
   "source": [
    "# Task 2\n",
    "Find the average age of men in dataset"
   ],
   "metadata": {
    "collapsed": false,
    "pycharm": {
     "name": "#%% md\n"
    }
   }
  },
  {
   "cell_type": "code",
   "execution_count": null,
   "outputs": [],
   "source": [
    "average_age_men = df.loc[df[\"sex\"] == \"Male\", \"age\"].mean()\n",
    "print(f\"Average age of men: {average_age_men:.2f}\")\n"
   ],
   "metadata": {
    "collapsed": false,
    "pycharm": {
     "name": "#%%\n"
    }
   }
  },
  {
   "cell_type": "markdown",
   "source": [
    "# Task 3\n",
    "Get the percentage of people from Poland (native-country)"
   ],
   "metadata": {
    "collapsed": false,
    "pycharm": {
     "name": "#%% md\n"
    }
   }
  },
  {
   "cell_type": "code",
   "execution_count": null,
   "outputs": [],
   "source": [
    "percent_from_poland = (df[\"native-country\"] == \"Poland\").mean() * 100\n",
    "print(f\"Percentage of people from Poland: {percent_from_poland:.2f}\")\n"
   ],
   "metadata": {
    "collapsed": false,
    "pycharm": {
     "name": "#%%\n"
    }
   }
  },
  {
   "cell_type": "markdown",
   "source": [
    "# Task 4\n",
    "Get the mean and standard deviation of the age for people who earn > 50K per year. After this, get it for those who earn <= 50K."
   ],
   "metadata": {
    "collapsed": false,
    "pycharm": {
     "name": "#%% md\n"
    }
   }
  },
  {
   "cell_type": "code",
   "execution_count": null,
   "outputs": [],
   "source": [
    "mean_age_above_50k = df.loc[df[\"salary\"] == \">50K\", \"age\"].mean()\n",
    "std_age_above_50k = df.loc[df[\"salary\"] == \">50K\", \"age\"].std()\n",
    "print(f\"Mean age of people earning >50K: {mean_age_above_50k: .2f}\")\n",
    "print(f\"Standard deviation of age of people earning >50K: {std_age_above_50k: .2f}\")\n",
    "\n",
    "mean_age_below_50k = df.loc[df[\"salary\"] == \"<=50K\", \"age\"].mean()\n",
    "std_age_below_50k = df.loc[df[\"salary\"] == \"<=50K\", \"age\"].std()\n",
    "print(f\"Mean age of people earning <=50K: {mean_age_below_50k: .2f}\")\n",
    "print(f\"Standard deviation of age of people earning <=50K: {std_age_below_50k: .2f}\")\n"
   ],
   "metadata": {
    "collapsed": false,
    "pycharm": {
     "name": "#%%\n"
    }
   }
  },
  {
   "cell_type": "markdown",
   "source": [
    "# Task 5\n",
    "Check, if there are some people without higher education (education: Bachelors, Prof-school, Assoc-acdm, Assoc-voc, Masters, Doctorate), but with > 50K salary"
   ],
   "metadata": {
    "collapsed": false
   }
  },
  {
   "cell_type": "code",
   "execution_count": null,
   "outputs": [],
   "source": [
    "high_education = [\"Bachelors\", \"Prof-school\", \"Assoc-acdm\", \"Assoc-voc\", \"Masters\", \"Doctorate\"]\n",
    "mask = (df[\"salary\"] == \">50K\") & (~df[\"education\"].isin(high_education))\n",
    "total_number = df[mask].count()[\"salary\"]\n",
    "\n",
    "if mask.any():\n",
    "    print(f\"There are {total_number} people with >50K salary, but without higher education.\")\n",
    "else:\n",
    "    print(\"All people with >50K salary have higher education.\")"
   ],
   "metadata": {
    "collapsed": false,
    "pycharm": {
     "name": "#%%\n"
    }
   }
  },
  {
   "cell_type": "markdown",
   "source": [
    "# Task 6\n",
    "Get the statistics of age for each type of education. Use `groupby` and `describe` for this."
   ],
   "metadata": {
    "collapsed": false,
    "pycharm": {
     "name": "#%% md\n"
    }
   }
  },
  {
   "cell_type": "code",
   "execution_count": null,
   "outputs": [],
   "source": [
    "education_age_stats = df.groupby(\"education\")[\"age\"].describe()\n",
    "print(education_age_stats)\n"
   ],
   "metadata": {
    "collapsed": false,
    "pycharm": {
     "name": "#%%\n"
    }
   }
  },
  {
   "cell_type": "markdown",
   "source": [
    "# Task 7\n",
    "Compare the married and non-married men salaries. Who earns more? (>50K or <=50K)\n",
    "Married men are those, whom `marital-status` starts with \"Married\". Others are not."
   ],
   "metadata": {
    "collapsed": false,
    "pycharm": {
     "name": "#%% md\n"
    }
   }
  },
  {
   "cell_type": "code",
   "execution_count": null,
   "outputs": [],
   "source": [
    "for salary in [\">50K\", \"<=50K\"]:\n",
    "    income_df = df[(df[\"sex\"] == \"Male\") & (df[\"salary\"] == salary)]\n",
    "    married_men = income_df[income_df[\"marital-status\"].str.startswith(\"Married\")][\"marital-status\"].count()\n",
    "    non_married_men = income_df[\"marital-status\"].count() - married_men\n",
    "    message = \"Married men\" if married_men > non_married_men else \"Non-married men\"\n",
    "    percentage = married_men / income_df[\"marital-status\"].count()\n",
    "    print(f\"{message} earn a salary of {salary} more often: {percentage:.2%} vs {1-percentage:.2%}.\")\n"
   ],
   "metadata": {
    "collapsed": false,
    "pycharm": {
     "name": "#%%\n"
    }
   }
  },
  {
   "cell_type": "markdown",
   "source": [
    "# Task 8\n",
    "Get the max hours per week some person works. How many people works the same amount of hours per week?"
   ],
   "metadata": {
    "collapsed": false,
    "pycharm": {
     "name": "#%% md\n"
    }
   }
  },
  {
   "cell_type": "code",
   "execution_count": null,
   "outputs": [],
   "source": [
    "max_hours_per_week = df[\"hours-per-week\"].max()\n",
    "num_people_max_hours = df[df[\"hours-per-week\"] == max_hours_per_week].shape[0]\n",
    "\n",
    "print(f\"The max hours per week worked by some person is {max_hours_per_week} hours.\")\n",
    "print(f\"{num_people_max_hours} people work the same amount of hours per week.\")\n"
   ],
   "metadata": {
    "collapsed": false,
    "pycharm": {
     "name": "#%%\n"
    }
   }
  },
  {
   "cell_type": "markdown",
   "source": [
    "# Task 9\n",
    "Analyze the correlation between data in dataset. Understand connected fields in it and print highlight thier connection."
   ],
   "metadata": {
    "collapsed": false,
    "pycharm": {
     "name": "#%% md\n"
    }
   }
  },
  {
   "cell_type": "code",
   "execution_count": null,
   "outputs": [],
   "source": [
    "df_numeric = df.select_dtypes(include=[\"int\", \"float\"])\n",
    "df_numeric.iloc[:, 1:].corr()\n"
   ],
   "metadata": {
    "collapsed": false,
    "pycharm": {
     "name": "#%%\n"
    }
   }
  }
 ],
 "metadata": {
  "kernelspec": {
   "display_name": "Python 3",
   "language": "python",
   "name": "python3"
  },
  "language_info": {
   "codemirror_mode": {
    "name": "ipython",
    "version": 2
   },
   "file_extension": ".py",
   "mimetype": "text/x-python",
   "name": "python",
   "nbconvert_exporter": "python",
   "pygments_lexer": "ipython2",
   "version": "2.7.6"
  }
 },
 "nbformat": 4,
 "nbformat_minor": 0
}
